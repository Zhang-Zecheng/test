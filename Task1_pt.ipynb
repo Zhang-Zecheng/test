{
 "cells": [
  {
   "cell_type": "code",
   "execution_count": 1,
   "id": "f485930d-9ad2-4959-a419-dde1ddbe4a96",
   "metadata": {
    "tags": []
   },
   "outputs": [
    {
     "data": {
      "text/plain": [
       "True"
      ]
     },
     "execution_count": 1,
     "metadata": {},
     "output_type": "execute_result"
    }
   ],
   "source": [
    "import numpy as np\n",
    "import torch\n",
    "import torch.nn as nn\n",
    "import torch.optim as optim\n",
    "from torch.utils.data import Dataset, DataLoader\n",
    "from sklearn.model_selection import train_test_split\n",
    "\n",
    "torch.cuda.is_available()"
   ]
  },
  {
   "cell_type": "code",
   "execution_count": 2,
   "id": "331c734f-45f6-41f9-9f88-b0c111638f2c",
   "metadata": {},
   "outputs": [
    {
     "data": {
      "text/plain": [
       "'2.0.0'"
      ]
     },
     "execution_count": 2,
     "metadata": {},
     "output_type": "execute_result"
    }
   ],
   "source": [
    "torch.__version__"
   ]
  },
  {
   "cell_type": "code",
   "execution_count": 3,
   "id": "6c8209a6-9743-4321-8d66-d02c04283f21",
   "metadata": {
    "tags": []
   },
   "outputs": [],
   "source": [
    "import h5py\n",
    "\n",
    "class ParticleDataset(Dataset):\n",
    "    def __init__(self, file_path=None, X=None, y=None):\n",
    "        if file_path is not None:\n",
    "            with h5py.File(file_path, 'r') as f:\n",
    "                self.X = torch.tensor(f['X'][:], dtype=torch.float32)\n",
    "                self.y = torch.tensor(f['y'][:], dtype=torch.long)\n",
    "        else:\n",
    "            self.X = X\n",
    "            self.y = y\n",
    "    \n",
    "    def __len__(self):\n",
    "        return len(self.X)\n",
    "    \n",
    "    def __getitem__(self, idx):\n",
    "        x = self.X[idx].permute(2, 0, 1)  # Transpose dimensions to (channels, height, width)\n",
    "        return x, self.y[idx]\n",
    "\n",
    "photon_file_path = \"SinglePhotonPt50_IMGCROPS_n249k_RHv1.hdf5\"\n",
    "electron_file_path = \"SingleElectronPt50_IMGCROPS_n249k_RHv1.hdf5\"\n",
    "\n",
    "# Load data from the provided HDF5 files\n",
    "photon_dataset = ParticleDataset(photon_file_path)\n",
    "electron_dataset = ParticleDataset(electron_file_path)"
   ]
  },
  {
   "cell_type": "code",
   "execution_count": 4,
   "id": "3ee16b37-af5a-4643-9802-8dc1d5048803",
   "metadata": {},
   "outputs": [],
   "source": [
    "from torch.utils.data import DataLoader, SubsetRandomSampler\n",
    "\n",
    "# Combine the datasets\n",
    "combined_dataset = torch.utils.data.ConcatDataset([photon_dataset, electron_dataset])\n",
    "\n",
    "# Create indices for the train/test split\n",
    "dataset_size = len(combined_dataset)\n",
    "indices = list(range(dataset_size))\n",
    "split = int(0.8 * dataset_size)  # 80% training, 20% testing\n",
    "np.random.shuffle(indices)\n",
    "\n",
    "train_indices = indices[:split]\n",
    "test_indices = indices[split:]\n",
    "\n",
    "# Create samplers for the train/test split\n",
    "train_sampler = SubsetRandomSampler(train_indices)\n",
    "test_sampler = SubsetRandomSampler(test_indices)\n",
    "\n",
    "# Create dataloaders for training and testing data\n",
    "train_loader = DataLoader(combined_dataset, batch_size=32, sampler=train_sampler)\n",
    "test_loader = DataLoader(combined_dataset, batch_size=32, sampler=test_sampler)\n"
   ]
  },
  {
   "cell_type": "code",
   "execution_count": 5,
   "id": "6812bbff-a5d0-42b3-a3c5-5c1a64f3c9d7",
   "metadata": {},
   "outputs": [
    {
     "data": {
      "text/plain": [
       "torch.Size([249000, 32, 32, 2])"
      ]
     },
     "execution_count": 5,
     "metadata": {},
     "output_type": "execute_result"
    }
   ],
   "source": [
    "photon_dataset.X.shape"
   ]
  },
  {
   "cell_type": "code",
   "execution_count": 6,
   "id": "7c875aa3-8471-4aa8-84f8-49ba4ed90f5d",
   "metadata": {},
   "outputs": [],
   "source": [
    "class ParticleClassifier(nn.Module):\n",
    "    def __init__(self):\n",
    "        super(ParticleClassifier, self).__init__()\n",
    "        self.conv1 = nn.Conv2d(2, 16, kernel_size=3, stride=1, padding=1)\n",
    "        self.relu1 = nn.ReLU()\n",
    "        self.pool1 = nn.MaxPool2d(kernel_size=2, stride=2, padding=0)\n",
    "        \n",
    "        self.conv2 = nn.Conv2d(16, 32, kernel_size=3, stride=1, padding=1)\n",
    "        self.relu2 = nn.ReLU()\n",
    "        self.pool2 = nn.MaxPool2d(kernel_size=2, stride=2, padding=0)\n",
    "        \n",
    "        self.fc1 = nn.Linear(32 * 8 * 8, 128)\n",
    "        self.relu3 = nn.ReLU()\n",
    "        self.fc2 = nn.Linear(128, 2)\n",
    "\n",
    "    def forward(self, x):\n",
    "        x = self.conv1(x)\n",
    "        x = self.relu1(x)\n",
    "        x = self.pool1(x)\n",
    "        \n",
    "        x = self.conv2(x)\n",
    "        x = self.relu2(x)\n",
    "        x = self.pool2(x)\n",
    "        \n",
    "        x = x.view(-1, 32 * 8 * 8)\n",
    "        x = self.fc1(x)\n",
    "        x = self.relu3(x)\n",
    "        x = self.fc2(x)\n",
    "        \n",
    "        return x\n"
   ]
  },
  {
   "cell_type": "code",
   "execution_count": 55,
   "id": "12dcd451-f2f6-4181-8b56-2d7f450b56c5",
   "metadata": {},
   "outputs": [],
   "source": [
    "class ResBlock(nn.Module):\n",
    "    def __init__(self, in_channels, out_channels, stride=1):\n",
    "        super(ResBlock, self).__init__()\n",
    "        self.conv1 = nn.Conv2d(in_channels, out_channels, kernel_size=3, stride=stride, padding=1, bias=False)\n",
    "        self.bn1 = nn.BatchNorm2d(out_channels)\n",
    "        self.conv2 = nn.Conv2d(out_channels, out_channels, kernel_size=3, stride=1, padding=1, bias=False)\n",
    "        self.bn2 = nn.BatchNorm2d(out_channels)\n",
    "\n",
    "        self.shortcut = nn.Sequential()\n",
    "        if stride != 1 or in_channels != out_channels:\n",
    "            self.shortcut = nn.Sequential(\n",
    "                nn.Conv2d(in_channels, out_channels, kernel_size=1, stride=stride, bias=False),\n",
    "                nn.BatchNorm2d(out_channels)\n",
    "            )\n",
    "\n",
    "    def forward(self, x):\n",
    "        out = self.conv1(x)\n",
    "        out = self.bn1(out)\n",
    "        out = nn.ReLU()(out)\n",
    "\n",
    "        out = self.conv2(out)\n",
    "        out = self.bn2(out)\n",
    "\n",
    "        out += self.shortcut(x)\n",
    "        out = nn.ReLU()(out)\n",
    "        return out\n",
    "\n",
    "\n",
    "class ResNet(nn.Module):\n",
    "    def __init__(self, num_classes=2):\n",
    "        super(ResNet, self).__init__()\n",
    "        self.in_channels = 16\n",
    "\n",
    "        self.conv1 = nn.Conv2d(2, 16, kernel_size=3, stride=1, padding=1, bias=False)\n",
    "        self.bn1 = nn.BatchNorm2d(16)\n",
    "        self.relu = nn.ReLU()\n",
    "        self.layer1 = self._make_layer(ResBlock, 16, 2, stride=1)\n",
    "        self.layer2 = self._make_layer(ResBlock, 32, 2, stride=2)\n",
    "        self.layer3 = self._make_layer(ResBlock, 64, 2, stride=2)\n",
    "        self.avgpool = nn.AdaptiveAvgPool2d((1, 1))\n",
    "        self.fc = nn.Linear(64, num_classes)\n",
    "\n",
    "    def _make_layer(self, block, out_channels, blocks, stride=1):\n",
    "        layers = []\n",
    "        layers.append(block(self.in_channels, out_channels, stride))\n",
    "        self.in_channels = out_channels\n",
    "        for i in range(1, blocks):\n",
    "            layers.append(block(out_channels, out_channels))\n",
    "        return nn.Sequential(*layers)\n",
    "\n",
    "    def forward(self, x):\n",
    "        out = self.conv1(x)\n",
    "        out = self.bn1(out)\n",
    "        out = self.relu(out)\n",
    "\n",
    "        out = self.layer1(out)\n",
    "        out = self.layer2(out)\n",
    "        out = self.layer3(out)\n",
    "\n",
    "        out = self.avgpool(out)\n",
    "        out = torch.flatten(out, 1)\n",
    "        out = self.fc(out)\n",
    "\n",
    "        return out\n"
   ]
  },
  {
   "cell_type": "code",
   "execution_count": 56,
   "id": "85f3b192-51fd-418c-aa45-c8cfe663190d",
   "metadata": {},
   "outputs": [],
   "source": [
    "import torch.optim as optim\n",
    "\n",
    "# Instantiate the model, loss function, and optimizer\n",
    "device = torch.device(\"cuda\" if torch.cuda.is_available() else \"cpu\")\n",
    "model = ResNet().to(device)\n",
    "criterion = nn.CrossEntropyLoss()\n",
    "optimizer = optim.Adam(model.parameters(), lr=0.001)\n"
   ]
  },
  {
   "cell_type": "code",
   "execution_count": 57,
   "id": "36cefbff-3a42-4105-837d-b48b3d4c745f",
   "metadata": {},
   "outputs": [
    {
     "name": "stdout",
     "output_type": "stream",
     "text": [
      "Epoch 1, Loss: 0.6053064936710649\n",
      "Epoch 2, Loss: 0.5667838150214958\n",
      "Epoch 3, Loss: 0.5581648376955086\n",
      "Epoch 4, Loss: 0.5525481698671019\n",
      "Epoch 5, Loss: 0.5487358337975888\n",
      "Epoch 6, Loss: 0.5457600672561002\n",
      "Epoch 7, Loss: 0.543258397440355\n",
      "Epoch 8, Loss: 0.5409882440169652\n",
      "Epoch 9, Loss: 0.5390094490750248\n",
      "Epoch 10, Loss: 0.5375734671196306\n",
      "Epoch 11, Loss: 0.5358216171140173\n",
      "Epoch 12, Loss: 0.5339634493962828\n",
      "Epoch 13, Loss: 0.5328668943203118\n",
      "Epoch 14, Loss: 0.5312524297713754\n",
      "Epoch 15, Loss: 0.5298869607103877\n",
      "Epoch 16, Loss: 0.5286098122860055\n",
      "Epoch 17, Loss: 0.5272429674696252\n",
      "Epoch 18, Loss: 0.5257622929294425\n",
      "Epoch 19, Loss: 0.5241401466416068\n",
      "Epoch 20, Loss: 0.5226549671859626\n",
      "Epoch 21, Loss: 0.5213001261178748\n",
      "Epoch 22, Loss: 0.5198117879068995\n",
      "Epoch 23, Loss: 0.5181243649795352\n",
      "Epoch 24, Loss: 0.516425099810922\n",
      "Epoch 25, Loss: 0.5150359447749264\n",
      "Epoch 26, Loss: 0.5126033677274443\n",
      "Epoch 27, Loss: 0.5102588800673025\n",
      "Epoch 28, Loss: 0.5080899329513431\n",
      "Epoch 29, Loss: 0.5055547504910982\n",
      "Epoch 30, Loss: 0.502779999298743\n",
      "Training complete\n"
     ]
    }
   ],
   "source": [
    "# Train the model\n",
    "num_epochs = 30\n",
    "\n",
    "for epoch in range(num_epochs):\n",
    "    model.train()\n",
    "    running_loss = 0.0\n",
    "    for i, (inputs, labels) in enumerate(train_loader):\n",
    "        inputs, labels = inputs.to(device), labels.to(device)\n",
    "        optimizer.zero_grad()\n",
    "        \n",
    "        outputs = model(inputs)\n",
    "        loss = criterion(outputs, labels)\n",
    "        loss.backward()\n",
    "        optimizer.step()\n",
    "        \n",
    "        running_loss += loss.item()\n",
    "    \n",
    "    print(f\"Epoch {epoch + 1}, Loss: {running_loss / (i + 1)}\")\n"
   ]
  },
  {
   "cell_type": "code",
   "execution_count": null,
   "id": "65140ab8",
   "metadata": {},
   "outputs": [],
   "source": [
    "torch.save(model.state_dict(), \"task1_pt.pt\")"
   ]
  },
  {
   "cell_type": "code",
   "execution_count": 58,
   "id": "d4f9ad10-e56a-4b37-aa5b-f18821694a25",
   "metadata": {},
   "outputs": [],
   "source": [
    "import numpy as np\n",
    "from sklearn.metrics import roc_curve, auc\n",
    "import matplotlib.pyplot as plt\n",
    "\n",
    "# Get model probabilities and true labels\n",
    "def get_probabilities_and_labels(model, data_loader):\n",
    "    model.eval()\n",
    "    all_probs = []\n",
    "    all_labels = []\n",
    "    \n",
    "    with torch.no_grad():\n",
    "        for inputs, labels in data_loader:\n",
    "            inputs, labels = inputs.to(device), labels.to(device)\n",
    "            outputs = torch.sigmoid(model(inputs))[:, 1]  # Get probabilities for the positive class\n",
    "            all_probs.extend(outputs.cpu().numpy())\n",
    "            all_labels.extend(labels.cpu().numpy())\n",
    "    \n",
    "    return np.array(all_probs), np.array(all_labels)\n",
    "\n",
    "# Compute probabilities and true labels\n",
    "probs, labels = get_probabilities_and_labels(model, test_loader)\n",
    "\n",
    "# Compute ROC curve and AUC score\n",
    "fpr, tpr, _ = roc_curve(labels, probs)\n",
    "roc_auc = auc(fpr, tpr)"
   ]
  },
  {
   "cell_type": "code",
   "execution_count": 59,
   "id": "b8e3f275-5ec7-49ee-be68-6f7f1a36e89e",
   "metadata": {},
   "outputs": [
    {
     "data": {
      "image/png": "[encoded data removed]",
      "text/plain": [
       "<Figure size 640x480 with 1 Axes>"
      ]
     },
     "metadata": {},
     "output_type": "display_data"
    }
   ],
   "source": [
    "plt.figure()\n",
    "lw = 2\n",
    "plt.plot(fpr, tpr, color='darkorange', lw=lw, label='ROC curve (area = %0.2f)' % roc_auc)\n",
    "plt.plot([0, 1], [0, 1], color='navy', lw=lw, linestyle='--')\n",
    "plt.xlim([0.0, 1.0])\n",
    "plt.ylim([0.0, 1.05])\n",
    "plt.xlabel('False Positive Rate')\n",
    "plt.ylabel('True Positive Rate')\n",
    "plt.title('Receiver Operating Characteristic')\n",
    "plt.legend(loc=\"lower right\")\n",
    "plt.show()\n"
   ]
  }
 ],
 "metadata": {
  "kernelspec": {
   "display_name": "pytorch",
   "language": "python",
   "name": "pytorch"
  },
  "language_info": {
   "codemirror_mode": {
    "name": "ipython",
    "version": 3
   },
   "file_extension": ".py",
   "mimetype": "text/x-python",
   "name": "python",
   "nbconvert_exporter": "python",
   "pygments_lexer": "ipython3",
   "version": "3.8.16"
  }
 },
 "nbformat": 4,
 "nbformat_minor": 5
}
