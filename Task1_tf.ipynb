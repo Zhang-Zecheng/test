{
 "cells": [
  {
   "cell_type": "code",
   "execution_count": 1,
   "id": "b164c648-59fc-4532-8a62-07e8287dd714",
   "metadata": {},
   "outputs": [],
   "source": [
    "import tensorflow as tf\n",
    "from tensorflow.keras.models import Sequential\n",
    "from tensorflow.keras.layers import Conv2D, MaxPooling2D, Flatten, Dense, Dropout\n",
    "from tensorflow.keras.optimizers import Adam\n",
    "from sklearn.metrics import roc_curve, auc\n",
    "from sklearn.model_selection import train_test_split\n",
    "import matplotlib.pyplot as plt\n",
    "import numpy as np\n",
    "\n",
    "import h5py"
   ]
  },
  {
   "cell_type": "code",
   "execution_count": 2,
   "id": "66b6caf2-8683-4079-9d84-16ceecfd8136",
   "metadata": {},
   "outputs": [
    {
     "name": "stdout",
     "output_type": "stream",
     "text": [
      "Num GPUs Available:  1\n"
     ]
    }
   ],
   "source": [
    "print(\"Num GPUs Available: \", len(tf.config.list_physical_devices('GPU')))"
   ]
  },
  {
   "cell_type": "code",
   "execution_count": 3,
   "id": "6148bdff-67c2-46b9-a55f-7ec81ac44352",
   "metadata": {},
   "outputs": [
    {
     "name": "stdout",
     "output_type": "stream",
     "text": [
      "2.10.0\n"
     ]
    }
   ],
   "source": [
    "print(tf.__version__)"
   ]
  },
  {
   "cell_type": "code",
   "execution_count": 4,
   "id": "76792332-43fe-4362-8cce-fb2ea57becaa",
   "metadata": {},
   "outputs": [
    {
     "data": {
      "text/plain": [
       "'64_112'"
      ]
     },
     "execution_count": 4,
     "metadata": {},
     "output_type": "execute_result"
    }
   ],
   "source": [
    "sys_details = tf.sysconfig.get_build_info()\n",
    "sys_details[\"cuda_version\"]"
   ]
  },
  {
   "cell_type": "code",
   "execution_count": 5,
   "id": "cb39ed7c-f6ae-450c-b09a-717d268eb10f",
   "metadata": {},
   "outputs": [],
   "source": [
    "photon_file_path = \"SinglePhotonPt50_IMGCROPS_n249k_RHv1.hdf5\"\n",
    "electron_file_path = \"SingleElectronPt50_IMGCROPS_n249k_RHv1.hdf5\"\n",
    "\n",
    "# Load data from the provided HDF5 files\n",
    "with h5py.File(photon_file_path, 'r') as f:\n",
    "    X_photon = f['X'][:]\n",
    "    y_photon = f['y'][:]\n",
    "\n",
    "with h5py.File(electron_file_path, 'r') as f:\n",
    "    X_electron = f['X'][:]\n",
    "    y_electron = f['y'][:]\n",
    "\n",
    "# Concatenate the datasets\n",
    "X = np.concatenate([X_photon, X_electron], axis=0)\n",
    "y = np.concatenate([y_photon, y_electron], axis=0)\n",
    "\n",
    "# Split into training and testing sets\n",
    "X_train, X_test, y_train, y_test = train_test_split(X, y, test_size=0.2, random_state=42)\n",
    "\n",
    "# Convert labels to one-hot encoding\n",
    "y_train = tf.keras.utils.to_categorical(y_train, num_classes=2)\n",
    "y_test = tf.keras.utils.to_categorical(y_test, num_classes=2)\n"
   ]
  },
  {
   "cell_type": "code",
   "execution_count": 6,
   "id": "258b6310-54aa-4ed8-b9f3-2ee4ea0d7e24",
   "metadata": {},
   "outputs": [],
   "source": [
    "from tensorflow.keras import layers\n",
    "\n",
    "class ResBlock(tf.keras.Model):\n",
    "    def __init__(self, in_channels, out_channels, stride=1):\n",
    "        super(ResBlock, self).__init__()\n",
    "        self.conv1 = layers.Conv2D(out_channels, kernel_size=3, strides=stride, padding=\"same\", use_bias=False)\n",
    "        self.bn1 = layers.BatchNormalization()\n",
    "        self.conv2 = layers.Conv2D(out_channels, kernel_size=3, strides=1, padding=\"same\", use_bias=False)\n",
    "        self.bn2 = layers.BatchNormalization()\n",
    "        self.shortcut = tf.keras.Sequential()\n",
    "        if stride != 1 or in_channels != out_channels:\n",
    "            self.shortcut = tf.keras.Sequential([\n",
    "                layers.Conv2D(out_channels, kernel_size=1, strides=stride, use_bias=False),\n",
    "                layers.BatchNormalization()\n",
    "            ])\n",
    "\n",
    "    def call(self, x):\n",
    "        out = self.conv1(x)\n",
    "        out = self.bn1(out)\n",
    "        out = tf.nn.relu(out)\n",
    "\n",
    "        out = self.conv2(out)\n",
    "        out = self.bn2(out)\n",
    "\n",
    "        out += self.shortcut(x)\n",
    "        out = tf.nn.relu(out)\n",
    "        return out\n",
    "\n",
    "\n",
    "class ResNet(tf.keras.Model):\n",
    "    def __init__(self, num_classes=2):\n",
    "        super(ResNet, self).__init__()\n",
    "        self.in_channels = 16\n",
    "\n",
    "        self.conv1 = layers.Conv2D(16, kernel_size=3, strides=1, padding=\"same\", use_bias=False)\n",
    "        self.bn1 = layers.BatchNormalization()\n",
    "        self.relu = tf.nn.relu\n",
    "        self.layer1 = self._make_layer(ResBlock, 16, 2, stride=1)\n",
    "        self.layer2 = self._make_layer(ResBlock, 32, 2, stride=2)\n",
    "        self.layer3 = self._make_layer(ResBlock, 64, 2, stride=2)\n",
    "        self.avgpool = layers.GlobalAveragePooling2D()\n",
    "        self.fc = layers.Dense(num_classes, activation='softmax')\n",
    "\n",
    "    def _make_layer(self, block, out_channels, blocks, stride=1):\n",
    "        layers = []\n",
    "        layers.append(block(self.in_channels, out_channels, stride))\n",
    "        self.in_channels = out_channels\n",
    "        for i in range(1, blocks):\n",
    "            layers.append(block(out_channels, out_channels))\n",
    "        return tf.keras.Sequential(layers)\n",
    "\n",
    "    def call(self, x):\n",
    "        out = self.conv1(x)\n",
    "        out = self.bn1(out)\n",
    "        out = self.relu(out)\n",
    "\n",
    "        out = self.layer1(out)\n",
    "        out = self.layer2(out)\n",
    "        out = self.layer3(out)\n",
    "\n",
    "        out = self.avgpool(out)\n",
    "        out = self.fc(out)\n",
    "\n",
    "        return out"
   ]
  },
  {
   "cell_type": "code",
   "execution_count": null,
   "id": "57b4d43e-31d8-4e1d-aacf-5e9154cbbfcb",
   "metadata": {},
   "outputs": [
    {
     "name": "stdout",
     "output_type": "stream",
     "text": [
      "Epoch 1/30\n",
      "11205/11205 [==============================] - 113s 10ms/step - loss: 0.6090 - accuracy: 0.6729 - val_loss: 0.5687 - val_accuracy: 0.7179\n",
      "Epoch 2/30\n",
      "11205/11205 [==============================] - 109s 10ms/step - loss: 0.5690 - accuracy: 0.7133 - val_loss: 0.5516 - val_accuracy: 0.7243\n",
      "Epoch 3/30\n",
      "11205/11205 [==============================] - 109s 10ms/step - loss: 0.5582 - accuracy: 0.7212 - val_loss: 0.5681 - val_accuracy: 0.7169\n",
      "Epoch 4/30\n",
      "11205/11205 [==============================] - 112s 10ms/step - loss: 0.5525 - accuracy: 0.7255 - val_loss: 0.5728 - val_accuracy: 0.7085\n",
      "Epoch 5/30\n",
      "11205/11205 [==============================] - 110s 10ms/step - loss: 0.5487 - accuracy: 0.7276 - val_loss: 0.5521 - val_accuracy: 0.7241\n",
      "Epoch 6/30\n",
      "11205/11205 [==============================] - 109s 10ms/step - loss: 0.5454 - accuracy: 0.7298 - val_loss: 0.5437 - val_accuracy: 0.7311\n",
      "Epoch 7/30\n",
      "11205/11205 [==============================] - 110s 10ms/step - loss: 0.5429 - accuracy: 0.7318 - val_loss: 0.5483 - val_accuracy: 0.7286\n",
      "Epoch 8/30\n",
      "11205/11205 [==============================] - 110s 10ms/step - loss: 0.5409 - accuracy: 0.7336 - val_loss: 0.5505 - val_accuracy: 0.7252\n",
      "Epoch 9/30\n",
      "11205/11205 [==============================] - 113s 10ms/step - loss: 0.5389 - accuracy: 0.7352 - val_loss: 0.5607 - val_accuracy: 0.7155\n",
      "Epoch 10/30\n",
      "11205/11205 [==============================] - 112s 10ms/step - loss: 0.5374 - accuracy: 0.7356 - val_loss: 0.5352 - val_accuracy: 0.7384\n",
      "Epoch 11/30\n",
      "11205/11205 [==============================] - 112s 10ms/step - loss: 0.5354 - accuracy: 0.7373 - val_loss: 0.5423 - val_accuracy: 0.7303\n",
      "Epoch 12/30\n",
      "11205/11205 [==============================] - 110s 10ms/step - loss: 0.5339 - accuracy: 0.7378 - val_loss: 0.5348 - val_accuracy: 0.7377\n",
      "Epoch 13/30\n",
      "11205/11205 [==============================] - 119s 11ms/step - loss: 0.5328 - accuracy: 0.7384 - val_loss: 0.5403 - val_accuracy: 0.7351\n",
      "Epoch 14/30\n",
      "11205/11205 [==============================] - 112s 10ms/step - loss: 0.5315 - accuracy: 0.7395 - val_loss: 0.5363 - val_accuracy: 0.7373\n",
      "Epoch 15/30\n",
      "11205/11205 [==============================] - 112s 10ms/step - loss: 0.5302 - accuracy: 0.7400 - val_loss: 0.5307 - val_accuracy: 0.7421\n",
      "Epoch 16/30\n",
      "11205/11205 [==============================] - 112s 10ms/step - loss: 0.5288 - accuracy: 0.7414 - val_loss: 0.5333 - val_accuracy: 0.7386\n",
      "Epoch 17/30\n",
      "11205/11205 [==============================] - 112s 10ms/step - loss: 0.5277 - accuracy: 0.7420 - val_loss: 0.5334 - val_accuracy: 0.7400\n",
      "Epoch 18/30\n",
      "11205/11205 [==============================] - 111s 10ms/step - loss: 0.5263 - accuracy: 0.7431 - val_loss: 0.5327 - val_accuracy: 0.7392\n",
      "Epoch 19/30\n",
      "11205/11205 [==============================] - 110s 10ms/step - loss: 0.5249 - accuracy: 0.7445 - val_loss: 0.5382 - val_accuracy: 0.7351\n",
      "Epoch 20/30\n",
      "11205/11205 [==============================] - 110s 10ms/step - loss: 0.5236 - accuracy: 0.7449 - val_loss: 0.5373 - val_accuracy: 0.7356\n",
      "Epoch 21/30\n",
      "11205/11205 [==============================] - 109s 10ms/step - loss: 0.5224 - accuracy: 0.7458 - val_loss: 0.5324 - val_accuracy: 0.7394\n",
      "Epoch 22/30\n",
      "11205/11205 [==============================] - 109s 10ms/step - loss: 0.5209 - accuracy: 0.7470 - val_loss: 0.5318 - val_accuracy: 0.7397\n",
      "Epoch 23/30\n",
      "11205/11205 [==============================] - 110s 10ms/step - loss: 0.5193 - accuracy: 0.7472 - val_loss: 0.5335 - val_accuracy: 0.7412\n",
      "Epoch 24/30\n",
      "11205/11205 [==============================] - 109s 10ms/step - loss: 0.5179 - accuracy: 0.7486 - val_loss: 0.5331 - val_accuracy: 0.7388\n",
      "Epoch 25/30\n",
      "11205/11205 [==============================] - 111s 10ms/step - loss: 0.5161 - accuracy: 0.7506 - val_loss: 0.5373 - val_accuracy: 0.7370\n",
      "Epoch 26/30\n",
      "11205/11205 [==============================] - 110s 10ms/step - loss: 0.5148 - accuracy: 0.7508 - val_loss: 0.5379 - val_accuracy: 0.7389\n",
      "Epoch 27/30\n",
      "11205/11205 [==============================] - 110s 10ms/step - loss: 0.5126 - accuracy: 0.7517 - val_loss: 0.5357 - val_accuracy: 0.7412\n",
      "Epoch 28/30\n",
      "11205/11205 [==============================] - 110s 10ms/step - loss: 0.5109 - accuracy: 0.7531 - val_loss: 0.5354 - val_accuracy: 0.7379\n",
      "Epoch 29/30\n",
      "11205/11205 [==============================] - 109s 10ms/step - loss: 0.5086 - accuracy: 0.7548 - val_loss: 0.5532 - val_accuracy: 0.7282\n",
      "Epoch 30/30\n",
      " 5263/11205 [=============>................] - ETA: 57s - loss: 0.5058 - accuracy: 0.7558"
     ]
    }
   ],
   "source": [
    "# Create the model\n",
    "model = ResNet()\n",
    "# Compile the model\n",
    "model.compile(optimizer=Adam(learning_rate=0.001), loss='binary_crossentropy', metrics=['accuracy'])\n",
    "\n",
    "# Train the model\n",
    "model.fit(X_train, y_train, batch_size=32, epochs=30, validation_split=0.1)\n"
   ]
  },
  {
   "cell_type": "code",
   "execution_count": null,
   "id": "887896f9",
   "metadata": {},
   "outputs": [],
   "source": [
    "# Evaluate the model\n",
    "test_loss, test_acc = model.evaluate(X_test, y_test)"
   ]
  },
  {
   "cell_type": "code",
   "execution_count": null,
   "id": "9f23aea2",
   "metadata": {},
   "outputs": [],
   "source": [
    "# Get probabilities and true labels\n",
    "probs = model.predict(X_test,batch_size=32)[:, 1]"
   ]
  },
  {
   "cell_type": "code",
   "execution_count": null,
   "id": "0fbad418-d939-40e9-8c99-333641fc1d7f",
   "metadata": {},
   "outputs": [],
   "source": [
    "# Compute ROC curve and AUC score\n",
    "y_test_original = np.argmax(y_test, axis=1)\n",
    "fpr, tpr, _ = roc_curve(y_test_original, probs)\n",
    "roc_auc = auc(fpr, tpr)\n",
    "\n",
    "# Plot ROC curve\n",
    "plt.figure()\n",
    "lw = 2\n",
    "plt.plot(fpr, tpr, color='darkorange', lw=lw, label='ROC curve (area = %0.2f)' % roc_auc)\n",
    "plt.plot([0, 1], [0, 1], color='navy', lw=lw, linestyle='--')\n",
    "plt.xlim([0.0, 1.0])\n",
    "plt.ylim([0.0, 1.05])\n",
    "plt.xlabel('False Positive Rate')\n",
    "plt.ylabel('True Positive Rate')\n",
    "plt.title('Receiver Operating Characteristic')\n",
    "plt.legend(loc=\"lower right\")\n",
    "plt.show()"
   ]
  },
  {
   "cell_type": "code",
   "execution_count": null,
   "id": "eea5d30f-738d-4750-8055-f6d71ee97a55",
   "metadata": {},
   "outputs": [],
   "source": []
  }
 ],
 "metadata": {
  "kernelspec": {
   "display_name": "tf26",
   "language": "python",
   "name": "tf26"
  },
  "language_info": {
   "codemirror_mode": {
    "name": "ipython",
    "version": 3
   },
   "file_extension": ".py",
   "mimetype": "text/x-python",
   "name": "python",
   "nbconvert_exporter": "python",
   "pygments_lexer": "ipython3",
   "version": "3.9.16"
  }
 },
 "nbformat": 4,
 "nbformat_minor": 5
}
