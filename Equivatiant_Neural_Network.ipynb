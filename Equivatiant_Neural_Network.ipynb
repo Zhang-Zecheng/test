{
 "cells": [
  {
   "cell_type": "code",
   "execution_count": 1,
   "id": "837fca85-0312-4016-ae09-b7b77b18d28b",
   "metadata": {},
   "outputs": [
    {
     "data": {
      "text/plain": [
       "True"
      ]
     },
     "execution_count": 1,
     "metadata": {},
     "output_type": "execute_result"
    }
   ],
   "source": [
    "import numpy as np\n",
    "import torch\n",
    "import torch.nn as nn\n",
    "import torch.optim as optim\n",
    "from torch.utils.data import Dataset, DataLoader\n",
    "from sklearn.model_selection import train_test_split\n",
    "import torchvision.transforms as transforms\n",
    "from bisect import bisect\n",
    "torch.cuda.is_available()"
   ]
  },
  {
   "cell_type": "code",
   "execution_count": 2,
   "id": "ac180f4e",
   "metadata": {},
   "outputs": [],
   "source": [
    "import pandas as pd\n",
    "import pyarrow.parquet as pq\n",
    "\n",
    "# def read_parquet_in_chunks(file_path, chunk_size=100):\n",
    "#     dfs = []\n",
    "#     pf = pq.ParquetFile(file_path)\n",
    "#     for i in range(0, pf.num_row_groups, chunk_size):\n",
    "#         chunk = pf.read_row_group(i).to_pandas()\n",
    "#         dfs.append(chunk)\n",
    "#     return pd.concat(dfs, ignore_index=True)\n",
    "\n",
    "file1 = 'QCDToGGQQ_IMGjet_RH1all_jet0_run0_n36272.test.snappy.parquet'\n",
    "file2 = 'QCDToGGQQ_IMGjet_RH1all_jet0_run1_n47540.test.snappy.parquet'\n",
    "file3 = 'QCDToGGQQ_IMGjet_RH1all_jet0_run2_n55494.test.snappy.parquet'\n",
    "\n",
    "# df1 = read_parquet_in_chunks(file1)\n",
    "# df2 = read_parquet_in_chunks(file2)\n",
    "# df3 = read_parquet_in_chunks(file3)\n",
    "\n",
    "# # Combine the DataFrames\n",
    "# df = pd.concat([df1, df2, df3], ignore_index=True)\n",
    "\n",
    "\n"
   ]
  },
  {
   "cell_type": "code",
   "execution_count": 3,
   "id": "d1d0e116",
   "metadata": {},
   "outputs": [],
   "source": [
    "class ParquetDataset(Dataset):\n",
    "    def __init__(self, file_path):\n",
    "        self.file_path = file_path\n",
    "        self.parquet_file = pq.ParquetFile(file_path)\n",
    "        self.num_row_groups = self.parquet_file.num_row_groups\n",
    "\n",
    "    def __len__(self):\n",
    "        return self.num_row_groups\n",
    "\n",
    "    def __getitem__(self, idx):\n",
    "        row_group = self.parquet_file.read_row_group(idx).to_pandas()\n",
    "        image_data = row_group['X_jets'].iloc[0]\n",
    "        label = row_group['y'].iloc[0]\n",
    "\n",
    "        # Stack the image data\n",
    "        image_data = np.stack([np.stack(channel) for channel in image_data], axis=0).astype('float32')\n",
    "        image_data = torch.tensor(image_data, dtype=torch.float)\n",
    "\n",
    "        # Explicitly cast label to an integer\n",
    "        label = int(label)\n",
    "        label = torch.tensor(label, dtype=torch.long)\n",
    "\n",
    "        return image_data, label"
   ]
  },
  {
   "cell_type": "code",
   "execution_count": 4,
   "id": "4320ff42",
   "metadata": {},
   "outputs": [],
   "source": [
    "from torch.utils.data import ConcatDataset\n",
    "\n",
    "dataset1 = ParquetDataset(file1)\n",
    "dataset2 = ParquetDataset(file2)\n",
    "dataset3 = ParquetDataset(file3)\n",
    "\n",
    "\n",
    "dataset = ConcatDataset([dataset1, dataset2, dataset3])\n"
   ]
  },
  {
   "cell_type": "code",
   "execution_count": 5,
   "id": "c1ed1935",
   "metadata": {},
   "outputs": [],
   "source": [
    "from torch.utils.data import random_split\n",
    "\n",
    "train_size = int(0.8 * len(dataset))\n",
    "test_size = len(dataset) - train_size\n",
    "train_dataset, test_dataset = random_split(dataset, [train_size, test_size])\n",
    "\n",
    "train_loader = DataLoader(train_dataset, batch_size=32, shuffle=True)\n",
    "test_loader = DataLoader(test_dataset, batch_size=32, shuffle=False)"
   ]
  },
  {
   "cell_type": "code",
   "execution_count": 6,
   "id": "e22733ed",
   "metadata": {},
   "outputs": [],
   "source": [
    "from e2cnn import gspaces\n",
    "from e2cnn import nn as enn\n",
    "\n",
    "r2_act = gspaces.Rot2dOnR2(N=8)  # N: Number of discrete rotations\n",
    "\n",
    "class EquivariantNetwork(nn.Module):\n",
    "    def __init__(self, n_classes):\n",
    "        super(EquivariantNetwork, self).__init__()\n",
    "        \n",
    "        self.input_type = enn.FieldType(r2_act, 3 * [r2_act.trivial_repr])\n",
    "        self.output_type = enn.FieldType(r2_act, 24 * [r2_act.regular_repr])\n",
    "\n",
    "        self.layer1 = enn.R2Conv(self.input_type, self.output_type, kernel_size=3, stride=1, padding=1)\n",
    "        self.relu1 = enn.ReLU(self.output_type)\n",
    "\n",
    "        self.pool1 = enn.R2Conv(self.output_type, self.output_type, kernel_size=3, stride=2, padding=1)\n",
    "\n",
    "        self.gpool = enn.GroupPooling(self.output_type)\n",
    "\n",
    "        self.fc1 = nn.Linear(24 * 63 * 63, 64)\n",
    "        self.fc2 = nn.Linear(64, n_classes)\n",
    "        \n",
    "    def forward(self, x):\n",
    "        x = enn.GeometricTensor(x, self.input_type)\n",
    "        x = self.relu1(self.layer1(x))\n",
    "        x = self.pool1(x)\n",
    "        x = self.gpool(x)\n",
    "        x = x.tensor.view(x.tensor.shape[0], -1)\n",
    "        x = torch.relu(self.fc1(x))\n",
    "        x = self.fc2(x)\n",
    "        return x"
   ]
  },
  {
   "cell_type": "code",
   "execution_count": 7,
   "id": "17916a6a",
   "metadata": {},
   "outputs": [
    {
     "name": "stderr",
     "output_type": "stream",
     "text": [
      "C:\\Users\\roder\\anaconda3\\envs\\pt2.0\\lib\\site-packages\\e2cnn\\nn\\modules\\r2_conv\\basisexpansion_singleblock.py:80: UserWarning: indexing with dtype torch.uint8 is now deprecated, please use a dtype torch.bool instead. (Triggered internally at C:\\cb\\pytorch_1000000000000\\work\\aten\\src\\ATen/native/IndexingUtils.h:28.)\n",
      "  full_mask[mask] = norms.to(torch.uint8)\n"
     ]
    }
   ],
   "source": [
    "device = torch.device(\"cuda\" if torch.cuda.is_available() else \"cpu\")\n",
    "num_classes = 2\n",
    "equivariant_net = EquivariantNetwork(num_classes)\n",
    "equivariant_net = equivariant_net.to(device)\n"
   ]
  },
  {
   "cell_type": "code",
   "execution_count": 8,
   "id": "0915ae03",
   "metadata": {},
   "outputs": [],
   "source": [
    "criterion = nn.CrossEntropyLoss()\n",
    "optimizer = torch.optim.Adam(equivariant_net.parameters(), lr=0.0001)\n"
   ]
  },
  {
   "cell_type": "code",
   "execution_count": 9,
   "id": "c93676e7",
   "metadata": {},
   "outputs": [
    {
     "name": "stdout",
     "output_type": "stream",
     "text": [
      "Epoch 1/10, Loss: 0.5989298875342831\n",
      "Epoch 2/10, Loss: 0.5589273914399586\n",
      "Epoch 3/10, Loss: 0.5243561527286149\n",
      "Epoch 4/10, Loss: 0.4817090367589776\n",
      "Epoch 5/10, Loss: 0.4291343157605607\n",
      "Epoch 6/10, Loss: 0.3651678797767794\n",
      "Epoch 7/10, Loss: 0.2865716498831788\n",
      "Epoch 8/10, Loss: 0.20833704907991507\n",
      "Epoch 9/10, Loss: 0.13208005041207027\n",
      "Epoch 10/10, Loss: 0.08407282102115061\n"
     ]
    }
   ],
   "source": [
    "num_epochs = 10\n",
    "reg_factor = 0.01\n",
    "\n",
    "for epoch in range(num_epochs):\n",
    "    equivariant_net.train()\n",
    "    running_loss = 0.0\n",
    "    \n",
    "    for images, labels in train_loader:\n",
    "        images, labels = images.to(device), labels.to(device)\n",
    "        \n",
    "        optimizer.zero_grad()\n",
    "        \n",
    "        outputs = equivariant_net(images)\n",
    "        loss = criterion(outputs, labels)\n",
    "        loss += l2_regularization(vgg16, reg_factor)\n",
    "        \n",
    "        loss.backward()\n",
    "        \n",
    "        optimizer.step()\n",
    "        \n",
    "        running_loss += loss.item()\n",
    "    \n",
    "    print(f\"Epoch {epoch+1}/{num_epochs}, Loss: {running_loss/len(train_loader)}\")"
   ]
  },
  {
   "cell_type": "code",
   "execution_count": 10,
   "id": "3f73feac",
   "metadata": {},
   "outputs": [
    {
     "name": "stdout",
     "output_type": "stream",
     "text": [
      "Accuracy of the model on the test dataset: 65.02%\n"
     ]
    }
   ],
   "source": [
    "# Set the model to evaluation mode\n",
    "equivariant_net.eval()\n",
    "\n",
    "# Initialize variables for accuracy calculation\n",
    "correct = 0\n",
    "total = 0\n",
    "# Disable gradient computation to save memory and speed up the evaluation\n",
    "with torch.no_grad():\n",
    "    for images, labels in test_loader:\n",
    "        images, labels = images.to(device), labels.to(device)\n",
    "        \n",
    "        # Make predictions\n",
    "        outputs = equivariant_net(images)\n",
    "        \n",
    "        # Get the predicted class (highest value)\n",
    "        _, predicted = torch.max(outputs.data, 1)\n",
    "        \n",
    "        # Update the total number of samples and the number of correct predictions\n",
    "        total += labels.size(0)\n",
    "        correct += (predicted == labels).sum().item()\n",
    "\n",
    "# Calculate the accuracy\n",
    "accuracy = correct / total\n",
    "print(f'Accuracy of the model on the test dataset: {accuracy * 100:.2f}%')\n"
   ]
  },
  {
   "cell_type": "code",
   "execution_count": 11,
   "id": "fa2019e3",
   "metadata": {},
   "outputs": [
    {
     "data": {
      "image/png": "[encoded data removed]",
      "text/plain": [
       "<Figure size 640x480 with 1 Axes>"
      ]
     },
     "metadata": {},
     "output_type": "display_data"
    }
   ],
   "source": [
    "from sklearn.metrics import roc_curve, auc\n",
    "import matplotlib.pyplot as plt\n",
    "# Set the model to evaluation mode\n",
    "equivariant_net.eval()\n",
    "\n",
    "# Initialize lists to store true labels and predicted probabilities\n",
    "y_true = []\n",
    "y_probs = []\n",
    "\n",
    "# Disable gradient computation to save memory and speed up the evaluation\n",
    "with torch.no_grad():\n",
    "    for images, labels in test_loader:\n",
    "        images, labels = images.to(device), labels.to(device)\n",
    "        \n",
    "        # Make predictions\n",
    "        outputs = equivariant_net(images)\n",
    "        \n",
    "        # Get the probability of the positive class (class 1)\n",
    "        probs = torch.nn.functional.softmax(outputs, dim=1)\n",
    "        probs = probs[:, 1].cpu().numpy()\n",
    "        \n",
    "        y_probs.extend(probs)\n",
    "        y_true.extend(labels.cpu().numpy())\n",
    "\n",
    "# Compute ROC curve and AUC score\n",
    "fpr, tpr, _ = roc_curve(y_true, y_probs)\n",
    "roc_auc = auc(fpr, tpr)\n",
    "\n",
    "# Plot the ROC curve\n",
    "plt.figure()\n",
    "lw = 2\n",
    "plt.plot(fpr, tpr, color='darkorange', lw=lw, label='ROC curve (AUC = %0.2f)' % roc_auc)\n",
    "plt.plot([0, 1], [0, 1], color='navy', lw=lw, linestyle='--')\n",
    "plt.xlim([0.0, 1.0])\n",
    "plt.ylim([0.0, 1.05])\n",
    "plt.xlabel('False Positive Rate')\n",
    "plt.ylabel('True Positive Rate')\n",
    "plt.title('Receiver Operating Characteristic')\n",
    "plt.legend(loc=\"lower right\")\n",
    "plt.show()"
   ]
  },
  {
   "cell_type": "code",
   "execution_count": 12,
   "id": "6a01a9c9",
   "metadata": {},
   "outputs": [],
   "source": [
    "torch.save(equivariant_net.state_dict(), 'equivariant_net.pt')"
   ]
  },
  {
   "cell_type": "markdown",
   "id": "090eb583",
   "metadata": {},
   "source": [
    "Performance comparison:\n",
    "\n",
    "The CNN model shows higher training loss but higher accuracy on the test set. This indicates that the CNN may be underfitting the training data but generalizes better to the unseen data. On the other hand, the EN model has lower training loss but not as high accuracy on the test set as expected. This suggests that the EN model might be overfitting the training data, learning the noise and irrelevant details in the training dataset, which results in poorer performance on the test set.\n",
    "\n",
    "Design choices:\n",
    "\n",
    "The design choice for the CNN model is based on the well-known VGG architecture, which is known for its effectiveness in many computer vision tasks. The fine-tuning approach, rather than training the whole model from scratch, was chosen to leverage the pre-trained weights learned from a larger dataset (e.g., ImageNet). This helps in faster convergence and potentially better performance, especially when the dataset is limited in size.\n",
    "\n",
    "For the EN model, the choice of using an equivariant neural network is motivated by its ability to naturally handle data with rotational symmetries. The EN model aims to exploit the invariance and equivariance properties of the data to improve the generalization capabilities of the model. However, since EN is a relatively new approach, finding the optimal architecture and hyperparameters can be more challenging compared to conventional CNNs."
   ]
  },
  {
   "cell_type": "code",
   "execution_count": null,
   "id": "1e7c30ba",
   "metadata": {},
   "outputs": [],
   "source": []
  }
 ],
 "metadata": {
  "kernelspec": {
   "display_name": "pytorch",
   "language": "python",
   "name": "pytorch"
  },
  "language_info": {
   "codemirror_mode": {
    "name": "ipython",
    "version": 3
   },
   "file_extension": ".py",
   "mimetype": "text/x-python",
   "name": "python",
   "nbconvert_exporter": "python",
   "pygments_lexer": "ipython3",
   "version": "3.8.16"
  }
 },
 "nbformat": 4,
 "nbformat_minor": 5
}
